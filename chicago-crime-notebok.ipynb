{
 "cells": [
  {
   "cell_type": "code",
   "execution_count": null,
   "id": "36c05a00",
   "metadata": {},
   "outputs": [],
   "source": [
    "import numpy as np\n",
    "import pandas as pd\n",
    "import seaborn as sns\n",
    "import matplotlib.pyplot as plt\n",
    "import folium as fo"
   ]
  },
  {
   "cell_type": "code",
   "execution_count": null,
   "id": "775b3d0e",
   "metadata": {},
   "outputs": [],
   "source": [
    "chicago_crime_data = pd.read_csv('C:\\\\Users\\\\zbv\\\\Documents\\\\chicago-crime-dataset\\\\Crimes_-_2001_to_Present_20231110.csv')"
   ]
  },
  {
   "cell_type": "code",
   "execution_count": null,
   "id": "84725820",
   "metadata": {},
   "outputs": [],
   "source": [
    "print('chicago_crime_data hat',chicago_crime_data.shape[1],'spalten und',chicago_crime_data.shape[0],'zeilen.' )"
   ]
  },
  {
   "cell_type": "code",
   "execution_count": null,
   "id": "f4c13e6a",
   "metadata": {},
   "outputs": [],
   "source": [
    "chicago_crime_data.head()"
   ]
  },
  {
   "cell_type": "markdown",
   "id": "4e276249",
   "metadata": {},
   "source": [
    "## Input Variable:\n",
    "- Case Number\n",
    "## Output Variablen:\n",
    "- Block\n",
    "- Primary Type\n",
    "- Description"
   ]
  },
  {
   "cell_type": "code",
   "execution_count": null,
   "id": "5a8a2481",
   "metadata": {},
   "outputs": [
    {
     "name": "stdout",
     "output_type": "stream",
     "text": [
      "Fast alle Variablen sind Nominal skaliert\n",
      "Die Variablen Arrest und Domestic sind Ordinal\n"
     ]
    }
   ],
   "source": [
    "print('Fast alle Variablen sind Nominal skaliert')\n",
    "print('Die Variablen Arrest und Domestic sind Ordinal')"
   ]
  },
  {
   "cell_type": "code",
   "execution_count": null,
   "id": "84a7c528",
   "metadata": {},
   "outputs": [],
   "source": [
    "chicago_crime_data.info()"
   ]
  },
  {
   "cell_type": "code",
   "execution_count": null,
   "id": "2dd0582e",
   "metadata": {},
   "outputs": [],
   "source": [
    "null_daten_count = chicago_crime_data.isnull().sum()\n",
    "print(null_daten_count)"
   ]
  },
  {
   "cell_type": "code",
   "execution_count": null,
   "id": "ffa929c3",
   "metadata": {},
   "outputs": [],
   "source": [
    "pd.set_option('display.float_format', '{:.2f}'.format)\n",
    "chicago_crime_data.describe()"
   ]
  },
  {
   "cell_type": "code",
   "execution_count": null,
   "id": "d0b08da2",
   "metadata": {},
   "outputs": [],
   "source": [
    "chicago_crime_data_numeric = chicago_crime_data.select_dtypes(include=[float, int])"
   ]
  },
  {
   "cell_type": "code",
   "execution_count": null,
   "id": "f25d4e20",
   "metadata": {},
   "outputs": [],
   "source": [
    "correlation_matrix = chicago_crime_data_numeric.corr()"
   ]
  },
  {
   "cell_type": "code",
   "execution_count": null,
   "id": "be43f2d4",
   "metadata": {},
   "outputs": [],
   "source": [
    "plt.figure(figsize=(12, 8))\n",
    "sns.heatmap(correlation_matrix, annot=True, cmap='coolwarm', linewidths=.5)\n",
    "plt.title('Kreuzkorrelation der numerischen Spalten')\n",
    "plt.show()"
   ]
  },
  {
   "cell_type": "markdown",
   "id": "5e3d1b76",
   "metadata": {},
   "source": [
    "### Karte von Chicago mit Heatmap\n",
    " - Wir beginnen indem wir ein Folium Kartenobjekt von Chicago erstellen\n",
    " - Tutorial: https://wellsr.com/python/plotting-geographical-heatmaps-with-python-folium-module/"
   ]
  },
  {
   "cell_type": "code",
   "execution_count": null,
   "id": "938f137a",
   "metadata": {},
   "outputs": [],
   "source": [
    "map_obj = f.Map(location = [41.88194, -87.62778], zoom_start = 10)\n",
    "\n",
    "map_obj"
   ]
  },
  {
   "cell_type": "code",
   "execution_count": null,
   "id": "d5ef964f",
   "metadata": {},
   "outputs": [],
   "source": [
    "map_obj.save(r\"C:\\Users\\zbv\\Documents\\chicago-crime\\folium_map.html\")"
   ]
  },
  {
   "cell_type": "markdown",
   "id": "21055147",
   "metadata": {},
   "source": [
    "### Nun erstellen wir ein Array der Latitude und Longitude Variablen: test"
   ]
  },
  {
   "cell_type": "code",
   "execution_count": null,
   "id": "4921f4be",
   "metadata": {},
   "outputs": [],
   "source": []
  }
 ],
 "metadata": {
  "jupytext": {
   "formats": "ipynb,py:percent"
  },
  "kernelspec": {
   "display_name": "python3",
   "language": "python",
   "name": "python3"
  }
 },
 "nbformat": 4,
 "nbformat_minor": 5
}
