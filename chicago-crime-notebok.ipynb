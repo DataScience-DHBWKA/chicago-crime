{
 "cells": [
  {
   "cell_type": "code",
   "execution_count": 4,
   "id": "a81af0ca",
   "metadata": {},
   "outputs": [
    {
     "name": "stdout",
     "output_type": "stream",
     "text": [
      "hello world\n"
     ]
    }
   ],
   "source": [
    "print(\"hello world\")\n"
   ]
  },
  {
   "cell_type": "code",
   "execution_count": 1,
   "id": "08a0d628",
   "metadata": {},
   "outputs": [
    {
     "name": "stdout",
     "output_type": "stream",
     "text": [
      "Viel Spaß Jungs\n"
     ]
    }
   ],
   "source": [
    "print(\"Viel Spaß Jungs\")"
   ]
  },
  {
   "cell_type": "code",
   "execution_count": 2,
   "id": "bcb6c7a5-c496-4481-bd96-6347364e5903",
   "metadata": {},
   "outputs": [
    {
     "name": "stdout",
     "output_type": "stream",
     "text": [
      "Wir packen das schon irgendwie\n"
     ]
    }
   ],
   "source": [
    "print(\"Wir packen das schon irgendwie\")"
   ]
  },
  {
   "cell_type": "code",
   "execution_count": 3,
   "id": "32cbc8e2-ec39-4c09-9bc4-babc1d12bec9",
   "metadata": {},
   "outputs": [
    {
     "data": {
      "text/plain": [
       "3"
      ]
     },
     "execution_count": 3,
     "metadata": {},
     "output_type": "execute_result"
    }
   ],
   "source": [
    "1+2"
   ]
  }
 ],
 "metadata": {
  "kernelspec": {
   "display_name": "Python 3 (ipykernel)",
   "language": "python",
   "name": "python3"
  },
  "language_info": {
   "codemirror_mode": {
    "name": "ipython",
    "version": 3
   },
   "file_extension": ".py",
   "mimetype": "text/x-python",
   "name": "python",
   "nbconvert_exporter": "python",
   "pygments_lexer": "ipython3",
   "version": "3.11.5"
  }
 },
 "nbformat": 4,
 "nbformat_minor": 5
}
