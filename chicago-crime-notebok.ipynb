{
 "cells": [
  {
   "cell_type": "code",
   "execution_count": null,
   "id": "12129395",
   "metadata": {
    "tags": []
   },
   "outputs": [],
   "source": [
    "import numpy as np\n",
    "import pandas as pd\n",
    "import seaborn as sns\n",
    "import matplotlib.pyplot as plt\n",
    "import folium as fo"
   ]
  },
  {
   "cell_type": "code",
   "execution_count": null,
   "id": "cbc4abc8-0f59-4b48-ac4d-09deca359cf2",
   "metadata": {
    "tags": []
   },
   "outputs": [],
   "source": [
    "chicago_crime_data = pd.read_csv('C:\\\\Users\\\\zbv\\\\Documents\\\\chicago-crime-dataset\\\\Crimes_-_2001_to_Present_20231110.csv')"
   ]
  },
  {
   "cell_type": "code",
   "execution_count": null,
   "id": "1bf03594-e84e-4f72-ab63-d4b3f48bc223",
   "metadata": {
    "tags": []
   },
   "outputs": [],
   "source": [
    "print('chicago_crime_data hat',chicago_crime_data.shape[1],'spalten und',chicago_crime_data.shape[0],'zeilen.' )"
   ]
  },
  {
   "cell_type": "code",
   "execution_count": null,
   "id": "b55d083b-857a-46c0-807f-8415ec183c18",
   "metadata": {
    "tags": []
   },
   "outputs": [],
   "source": [
    "chicago_crime_data.head()"
   ]
  },
  {
   "cell_type": "markdown",
   "id": "8a6310e3-4d00-444a-847a-ac95d9acf668",
   "metadata": {
    "tags": []
   },
   "source": [
    "## Input Variable:\n",
    "- Case Number\n",
    "## Output Variablen:\n",
    "- Block\n",
    "- Primary Type\n",
    "- Description"
   ]
  },
  {
   "cell_type": "code",
   "execution_count": null,
   "id": "d94e4631-4322-41e6-a275-37a35eb3c6dd",
   "metadata": {
    "tags": []
   },
   "outputs": [],
   "source": [
    "print('Fast alle Variablen sind Nominal skaliert')\n",
    "print('Die Variablen Arrest und Domestic sind Ordinal')"
   ]
  },
  {
   "cell_type": "code",
   "execution_count": null,
   "id": "498aac77-0a5a-4cca-bad5-5e1438c26565",
   "metadata": {
    "tags": []
   },
   "outputs": [],
   "source": [
    "chicago_crime_data.info()"
   ]
  },
  {
   "cell_type": "code",
   "execution_count": null,
   "id": "7267e4d6-ed9a-4c7d-9afe-35fac9cd09c8",
   "metadata": {
    "tags": []
   },
   "outputs": [],
   "source": [
    "null_daten_count = chicago_crime_data.isnull().sum()\n",
    "print(null_daten_count)"
   ]
  },
  {
   "cell_type": "code",
   "execution_count": null,
   "id": "b7f72d57-9534-43e9-a907-9339eef75455",
   "metadata": {
    "tags": []
   },
   "outputs": [],
   "source": [
    "pd.set_option('display.float_format', '{:.2f}'.format)\n",
    "chicago_crime_data.describe()"
   ]
  },
  {
   "cell_type": "code",
   "execution_count": null,
   "id": "3e3be7fb-31a6-4309-9a35-7bba206208f2",
   "metadata": {
    "tags": []
   },
   "outputs": [],
   "source": [
    "chicago_crime_data_numeric = chicago_crime_data.select_dtypes(include=[float, int])"
   ]
  },
  {
   "cell_type": "code",
   "execution_count": null,
   "id": "f9c51e5b-8db2-4233-b287-fd393c43069f",
   "metadata": {
    "tags": []
   },
   "outputs": [],
   "source": [
    "correlation_matrix = chicago_crime_data_numeric.corr()"
   ]
  },
  {
   "cell_type": "code",
   "execution_count": null,
   "id": "ac2a601b-4589-4174-bce7-8db9ad45b176",
   "metadata": {
    "tags": []
   },
   "outputs": [],
   "source": [
    "plt.figure(figsize=(12, 8))\n",
    "sns.heatmap(correlation_matrix, annot=True, cmap='coolwarm', linewidths=.5)\n",
    "plt.title('Kreuzkorrelation der numerischen Spalten')\n",
    "plt.show()"
   ]
  },
  {
   "cell_type": "markdown",
   "id": "344cd006",
   "metadata": {},
   "source": [
    "### Karte von Chicago mit Heatmap\n",
    " - Wir beginnen indem wir ein Folium Kartenobjekt von Chicago erstellen\n",
    " - Tutorial: https://wellsr.com/python/plotting-geographical-heatmaps-with-python-folium-module/"
   ]
  },
  {
   "cell_type": "code",
   "execution_count": null,
   "id": "0c4606b8",
   "metadata": {
    "scrolled": true
   },
   "outputs": [],
   "source": [
    "map_obj = f.Map(location = [41.88194, -87.62778], zoom_start = 10)\n",
    "\n",
    "map_obj"
   ]
  },
  {
   "cell_type": "code",
   "execution_count": null,
   "id": "a504ac10",
   "metadata": {},
   "outputs": [],
   "source": [
    "map_obj.save(r\"C:\\Users\\zbv\\Documents\\chicago-crime\\folium_map.html\")"
   ]
  },
  {
   "cell_type": "markdown",
   "id": "7082b778",
   "metadata": {},
   "source": [
    "### Nun erstellen wir ein Array der Latitude und Longitude Variablen:"
   ]
  },
  {
   "cell_type": "code",
   "execution_count": null,
   "id": "676d204b",
   "metadata": {},
   "outputs": [],
   "source": []
  }
 ],
 "metadata": {
  "kernelspec": {
   "display_name": "Python 3 (ipykernel)",
   "language": "python",
   "name": "python3"
  },
  "language_info": {
   "codemirror_mode": {
    "name": "ipython",
    "version": 3
   },
   "file_extension": ".py",
   "mimetype": "text/x-python",
   "name": "python",
   "nbconvert_exporter": "python",
   "pygments_lexer": "ipython3",
   "version": "3.11.5"
  }
 },
 "nbformat": 4,
 "nbformat_minor": 5
}
